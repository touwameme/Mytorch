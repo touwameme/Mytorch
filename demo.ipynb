{
 "cells": [
  {
   "cell_type": "code",
   "execution_count": 2,
   "metadata": {},
   "outputs": [
    {
     "ename": "NameError",
     "evalue": "name 'Op' is not defined",
     "output_type": "error",
     "traceback": [
      "\u001b[1;31m---------------------------------------------------------------------------\u001b[0m",
      "\u001b[1;31mNameError\u001b[0m                                 Traceback (most recent call last)",
      "Cell \u001b[1;32mIn [2], line 4\u001b[0m\n\u001b[0;32m      2\u001b[0m \u001b[38;5;28;01mfrom\u001b[39;00m \u001b[38;5;21;01mtyping\u001b[39;00m \u001b[38;5;28;01mimport\u001b[39;00m Union, Tuple, List\n\u001b[0;32m      3\u001b[0m \u001b[38;5;28;01mfrom\u001b[39;00m \u001b[38;5;21;01mabc\u001b[39;00m \u001b[38;5;28;01mimport\u001b[39;00m ABC, abstractmethod\n\u001b[1;32m----> 4\u001b[0m \u001b[38;5;28;01mfrom\u001b[39;00m \u001b[38;5;21;01mbasic\u001b[39;00m \u001b[38;5;28;01mimport\u001b[39;00m Value\n\u001b[0;32m      5\u001b[0m \u001b[38;5;28;01mfrom\u001b[39;00m \u001b[38;5;21;01mops\u001b[39;00m \u001b[38;5;28;01mimport\u001b[39;00m \u001b[38;5;241m*\u001b[39m\n",
      "File \u001b[1;32md:\\NN\\basic.py:48\u001b[0m\n\u001b[0;32m     42\u001b[0m         value\u001b[38;5;241m.\u001b[39mcached_data\u001b[38;5;241m=\u001b[39mvalue\u001b[38;5;241m.\u001b[39mrealize_cached_data()\n\u001b[0;32m     43\u001b[0m         \u001b[38;5;28;01mreturn\u001b[39;00m value\n\u001b[1;32m---> 48\u001b[0m \u001b[38;5;28;01mclass\u001b[39;00m \u001b[38;5;21;01mTensor\u001b[39;00m (Value):\n\u001b[0;32m     49\u001b[0m     \u001b[38;5;66;03m# grad: \"Tensor\" \u001b[39;00m\n\u001b[0;32m     50\u001b[0m     \u001b[38;5;28;01mdef\u001b[39;00m \u001b[38;5;21m__init__\u001b[39m(\u001b[38;5;28mself\u001b[39m, op, inputs,requires_grad\u001b[38;5;241m=\u001b[39m\u001b[38;5;28;01mTrue\u001b[39;00m,  dtype\u001b[38;5;241m=\u001b[39m\u001b[38;5;28;01mNone\u001b[39;00m, \u001b[38;5;241m*\u001b[39m\u001b[38;5;241m*\u001b[39mkwargs):\n\u001b[0;32m     51\u001b[0m         \u001b[38;5;66;03m# self.Vdata=self.super(Tensor,se)\u001b[39;00m\n\u001b[0;32m     52\u001b[0m         \u001b[38;5;28msuper\u001b[39m(Tensor,\u001b[38;5;28mself\u001b[39m)\u001b[38;5;241m.\u001b[39m\u001b[38;5;21m__init__\u001b[39m(op,inputs,requires_grad)\n",
      "File \u001b[1;32md:\\NN\\basic.py:83\u001b[0m, in \u001b[0;36mTensor\u001b[1;34m()\u001b[0m\n\u001b[0;32m     79\u001b[0m     tensor\u001b[38;5;241m.\u001b[39mcached_data\u001b[38;5;241m=\u001b[39mtensor_data\n\u001b[0;32m     81\u001b[0m     \u001b[38;5;28;01mreturn\u001b[39;00m tensor\n\u001b[0;32m     82\u001b[0m \u001b[38;5;129m@staticmethod\u001b[39m\n\u001b[1;32m---> 83\u001b[0m \u001b[38;5;28;01mdef\u001b[39;00m \u001b[38;5;21mmake_from_op\u001b[39m(op:\u001b[43mOp\u001b[49m,inputs):\n\u001b[0;32m     84\u001b[0m     tensor\u001b[38;5;241m=\u001b[39mTensor\u001b[38;5;241m.\u001b[39m\u001b[38;5;21m__new__\u001b[39m(Tensor)\n\u001b[0;32m     85\u001b[0m     tensor\u001b[38;5;241m.\u001b[39m\u001b[38;5;21m__init__\u001b[39m(op,inputs)\n",
      "\u001b[1;31mNameError\u001b[0m: name 'Op' is not defined"
     ]
    }
   ],
   "source": [
    "\n",
    "\n",
    "import numpy as np\n",
    "from typing import Union, Tuple, List\n",
    "from abc import ABC, abstractmethod\n",
    "from basic import Value\n",
    "from ops import *\n"
   ]
  },
  {
   "cell_type": "code",
   "execution_count": null,
   "metadata": {},
   "outputs": [],
   "source": [
    "x=Value.make_const([1])\n",
    "y=Value.make_const([2])\n",
    "z=Value.make_from_op(AddOp(),[x,y])"
   ]
  },
  {
   "cell_type": "code",
   "execution_count": null,
   "metadata": {},
   "outputs": [
    {
     "ename": "AttributeError",
     "evalue": "'NoneType' object has no attribute 'realize_cached_data'",
     "output_type": "error",
     "traceback": [
      "\u001b[1;31m---------------------------------------------------------------------------\u001b[0m",
      "\u001b[1;31mAttributeError\u001b[0m                            Traceback (most recent call last)",
      "Cell \u001b[1;32mIn [25], line 1\u001b[0m\n\u001b[1;32m----> 1\u001b[0m \u001b[43mz\u001b[49m\u001b[38;5;241;43m.\u001b[39;49m\u001b[43mrealize_cached_data\u001b[49m()\n",
      "\u001b[1;31mAttributeError\u001b[0m: 'NoneType' object has no attribute 'realize_cached_data'"
     ]
    }
   ],
   "source": [
    "z.realize_cached_data()"
   ]
  },
  {
   "cell_type": "code",
   "execution_count": null,
   "metadata": {},
   "outputs": [
    {
     "name": "stdout",
     "output_type": "stream",
     "text": [
      "Overiding Add\n"
     ]
    },
    {
     "ename": "NameError",
     "evalue": "name 'EWiseAdd' is not defined",
     "output_type": "error",
     "traceback": [
      "\u001b[1;31m---------------------------------------------------------------------------\u001b[0m",
      "\u001b[1;31mNameError\u001b[0m                                 Traceback (most recent call last)",
      "Cell \u001b[1;32mIn [14], line 5\u001b[0m\n\u001b[0;32m      3\u001b[0m tx\u001b[38;5;241m=\u001b[39mTensor\u001b[38;5;241m.\u001b[39mmake_const([\u001b[38;5;241m1.\u001b[39m])\n\u001b[0;32m      4\u001b[0m ty\u001b[38;5;241m=\u001b[39mTensor\u001b[38;5;241m.\u001b[39mmake_const([\u001b[38;5;241m2.\u001b[39m])\n\u001b[1;32m----> 5\u001b[0m \u001b[43mtx\u001b[49m\u001b[38;5;241;43m+\u001b[39;49m\u001b[43mty\u001b[49m\n",
      "File \u001b[1;32md:\\NN\\basic.py:84\u001b[0m, in \u001b[0;36mTensor.__add__\u001b[1;34m(self, other)\u001b[0m\n\u001b[0;32m     82\u001b[0m \u001b[38;5;28mprint\u001b[39m(\u001b[38;5;124m\"\u001b[39m\u001b[38;5;124mOveriding Add\u001b[39m\u001b[38;5;124m\"\u001b[39m)\n\u001b[0;32m     83\u001b[0m \u001b[38;5;28;01mif\u001b[39;00m \u001b[38;5;28misinstance\u001b[39m(other,Tensor):\n\u001b[1;32m---> 84\u001b[0m     \u001b[38;5;28;01mreturn\u001b[39;00m \u001b[43mEWiseAdd\u001b[49m(\u001b[38;5;28mself\u001b[39m,other)\n\u001b[0;32m     85\u001b[0m \u001b[38;5;28;01melse\u001b[39;00m:\n\u001b[0;32m     86\u001b[0m     \u001b[38;5;28;01mpass\u001b[39;00m\n",
      "\u001b[1;31mNameError\u001b[0m: name 'EWiseAdd' is not defined"
     ]
    }
   ],
   "source": [
    "from basic import Tensor\n",
    "\n",
    "tx=Tensor.make_const([1.])\n",
    "ty=Tensor.make_const([2.])\n",
    "tx+ty"
   ]
  },
  {
   "cell_type": "code",
   "execution_count": null,
   "metadata": {},
   "outputs": [],
   "source": []
  },
  {
   "cell_type": "code",
   "execution_count": null,
   "metadata": {},
   "outputs": [],
   "source": []
  },
  {
   "cell_type": "code",
   "execution_count": null,
   "metadata": {},
   "outputs": [
    {
     "ename": "TypeError",
     "evalue": "EWiseAdd.compute() missing 2 required positional arguments: 'a' and 'b'",
     "output_type": "error",
     "traceback": [
      "\u001b[1;31m---------------------------------------------------------------------------\u001b[0m",
      "\u001b[1;31mTypeError\u001b[0m                                 Traceback (most recent call last)",
      "Cell \u001b[1;32mIn [7], line 1\u001b[0m\n\u001b[1;32m----> 1\u001b[0m tz\u001b[38;5;241m=\u001b[39m\u001b[43mTensor\u001b[49m\u001b[38;5;241;43m.\u001b[39;49m\u001b[43mmake_from_op\u001b[49m\u001b[43m(\u001b[49m\u001b[43mEWiseAdd\u001b[49m\u001b[43m,\u001b[49m\u001b[43m[\u001b[49m\u001b[43mtx\u001b[49m\u001b[43m,\u001b[49m\u001b[43mty\u001b[49m\u001b[43m]\u001b[49m\u001b[43m)\u001b[49m\n",
      "File \u001b[1;32md:\\NN\\basic.py:111\u001b[0m, in \u001b[0;36mTensor.make_from_op\u001b[1;34m(op, inputs)\u001b[0m\n\u001b[0;32m    109\u001b[0m tensor\u001b[38;5;241m=\u001b[39mTensor\u001b[38;5;241m.\u001b[39m\u001b[38;5;21m__new__\u001b[39m(Tensor)\n\u001b[0;32m    110\u001b[0m tensor\u001b[38;5;241m.\u001b[39m\u001b[38;5;21m__init__\u001b[39m(op,inputs)\n\u001b[1;32m--> 111\u001b[0m tensor\u001b[38;5;241m.\u001b[39mcached_data\u001b[38;5;241m=\u001b[39m\u001b[43mtensor\u001b[49m\u001b[38;5;241;43m.\u001b[39;49m\u001b[43mrealize_cached_data\u001b[49m\u001b[43m(\u001b[49m\u001b[43m)\u001b[49m\n\u001b[0;32m    112\u001b[0m \u001b[38;5;28;01mreturn\u001b[39;00m tensor\n",
      "File \u001b[1;32md:\\NN\\basic.py:27\u001b[0m, in \u001b[0;36mValue.realize_cached_data\u001b[1;34m(self)\u001b[0m\n\u001b[0;32m     25\u001b[0m     \u001b[38;5;28;01mreturn\u001b[39;00m \u001b[38;5;28mself\u001b[39m\u001b[38;5;241m.\u001b[39mcached_data \n\u001b[0;32m     26\u001b[0m \u001b[38;5;28;01melse\u001b[39;00m:\n\u001b[1;32m---> 27\u001b[0m     \u001b[38;5;28mself\u001b[39m\u001b[38;5;241m.\u001b[39mcached_data\u001b[38;5;241m=\u001b[39m\u001b[38;5;28;43mself\u001b[39;49m\u001b[38;5;241;43m.\u001b[39;49m\u001b[43mop\u001b[49m\u001b[38;5;241;43m.\u001b[39;49m\u001b[43mcompute\u001b[49m\u001b[43m(\u001b[49m\u001b[43mnp\u001b[49m\u001b[38;5;241;43m.\u001b[39;49m\u001b[43marray\u001b[49m\u001b[43m(\u001b[49m\u001b[43m[\u001b[49m\u001b[43mx\u001b[49m\u001b[38;5;241;43m.\u001b[39;49m\u001b[43mrealize_cached_data\u001b[49m\u001b[43m(\u001b[49m\u001b[43m)\u001b[49m\u001b[43m \u001b[49m\u001b[38;5;28;43;01mfor\u001b[39;49;00m\u001b[43m \u001b[49m\u001b[43mx\u001b[49m\u001b[43m \u001b[49m\u001b[38;5;129;43;01min\u001b[39;49;00m\u001b[43m \u001b[49m\u001b[38;5;28;43mself\u001b[39;49m\u001b[38;5;241;43m.\u001b[39;49m\u001b[43minputs\u001b[49m\u001b[43m]\u001b[49m\u001b[43m)\u001b[49m\u001b[43m)\u001b[49m\n\u001b[0;32m     28\u001b[0m     \u001b[38;5;28;01mreturn\u001b[39;00m \u001b[38;5;28mself\u001b[39m\u001b[38;5;241m.\u001b[39mcached_data\n",
      "\u001b[1;31mTypeError\u001b[0m: EWiseAdd.compute() missing 2 required positional arguments: 'a' and 'b'"
     ]
    }
   ],
   "source": [
    "tz=Tensor.make_from_op(EWiseAdd,[tx,ty])"
   ]
  },
  {
   "cell_type": "code",
   "execution_count": null,
   "metadata": {},
   "outputs": [],
   "source": [
    "tz"
   ]
  },
  {
   "cell_type": "code",
   "execution_count": null,
   "metadata": {},
   "outputs": [],
   "source": [
    "    @property\n",
    "    def grad(self):\n",
    "        return self._grad\n",
    "    \n",
    "    \n",
    "    \n",
    "    @property\n",
    "    def dtype(self):\n",
    "        return self.dtype \n",
    "    @property\n",
    "    def shape(self):\n",
    "        return self.data.shape \n",
    "    def detach(self):\n",
    "        return Tensor.make_const(self.realize_cached_data())"
   ]
  },
  {
   "cell_type": "code",
   "execution_count": null,
   "metadata": {},
   "outputs": [],
   "source": []
  },
  {
   "cell_type": "code",
   "execution_count": null,
   "metadata": {},
   "outputs": [],
   "source": []
  },
  {
   "cell_type": "code",
   "execution_count": null,
   "metadata": {},
   "outputs": [],
   "source": []
  }
 ],
 "metadata": {
  "kernelspec": {
   "display_name": "Python 3",
   "language": "python",
   "name": "python3"
  },
  "language_info": {
   "codemirror_mode": {
    "name": "ipython",
    "version": 3
   },
   "file_extension": ".py",
   "mimetype": "text/x-python",
   "name": "python",
   "nbconvert_exporter": "python",
   "pygments_lexer": "ipython3",
   "version": "3.10.2"
  }
 },
 "nbformat": 4,
 "nbformat_minor": 2
}
