{
 "cells": [
  {
   "cell_type": "code",
   "execution_count": null,
   "metadata": {},
   "outputs": [],
   "source": [
    "\n",
    "\n",
    "import numpy as np\n",
    "from typing import Union, Tuple, List\n",
    "from abc import ABC, abstractmethod\n",
    "from basic import * \n"
   ]
  },
  {
   "cell_type": "code",
   "execution_count": 1,
   "metadata": {},
   "outputs": [
    {
     "name": "stdout",
     "output_type": "stream",
     "text": [
      "torch.Size([2, 3])\n",
      "tensor([[1, 2, 3],\n",
      "        [1, 2, 3]])\n",
      "torch.Size([2, 3])\n",
      "tensor([[4, 4, 4],\n",
      "        [5, 5, 5]])\n"
     ]
    },
    {
     "data": {
      "text/plain": [
       "'\\n输出:\\ntensor([[4, 4, 4],\\n        [5, 5, 5]])\\n'"
      ]
     },
     "execution_count": 1,
     "metadata": {},
     "output_type": "execute_result"
    }
   ],
   "source": [
    "import torch\n",
    "\n",
    "# 创建一个形状为 (3,) 的输入张量\n",
    "x = torch.tensor([1, 2, 3])\n",
    "\n",
    "# 广播为形状为 (2, 3) 的二维张量\n",
    "broadcasted_x = torch.broadcast_to(x, (2, 3))\n",
    "print(broadcasted_x.shape)  # 输出: torch.Size([2, 3])\n",
    "print(broadcasted_x)\n",
    "\"\"\"\n",
    "输出:\n",
    "tensor([[1, 2, 3],\n",
    "        [1, 2, 3]])\n",
    "\"\"\"\n",
    "\n",
    "# 创建一个形状为 (2, 1) 的输入张量\n",
    "y = torch.tensor([[4], \n",
    "                  [5]])\n",
    "\n",
    "# 广播为形状为 (2, 3) 的二维张量\n",
    "broadcasted_y = torch.broadcast_to(y, (2, 3))\n",
    "print(broadcasted_y.shape)  # 输出: torch.Size([2, 3])\n",
    "print(broadcasted_y)\n",
    "\"\"\"\n",
    "输出:\n",
    "tensor([[4, 4, 4],\n",
    "        [5, 5, 5]])\n",
    "\"\"\"\n"
   ]
  },
  {
   "cell_type": "code",
   "execution_count": 11,
   "metadata": {},
   "outputs": [
    {
     "data": {
      "text/plain": [
       "(2, 6, 6)"
      ]
     },
     "execution_count": 11,
     "metadata": {},
     "output_type": "execute_result"
    }
   ],
   "source": [
    "import numpy as np\n",
    "a = np.random.random([2,1,6])\n",
    "b = np.random.random([6,1])\n",
    "(a+b).shape"
   ]
  }
 ],
 "metadata": {
  "kernelspec": {
   "display_name": "Python 3",
   "language": "python",
   "name": "python3"
  },
  "language_info": {
   "codemirror_mode": {
    "name": "ipython",
    "version": 3
   },
   "file_extension": ".py",
   "mimetype": "text/x-python",
   "name": "python",
   "nbconvert_exporter": "python",
   "pygments_lexer": "ipython3",
   "version": "3.10.2"
  }
 },
 "nbformat": 4,
 "nbformat_minor": 2
}
